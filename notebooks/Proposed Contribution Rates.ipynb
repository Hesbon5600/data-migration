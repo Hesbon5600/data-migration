{
 "cells": [
  {
   "cell_type": "markdown",
   "metadata": {},
   "source": [
    "###### imports\n"
   ]
  },
  {
   "cell_type": "code",
   "execution_count": 183,
   "metadata": {},
   "outputs": [],
   "source": [
    "from math import pow\n"
   ]
  },
  {
   "cell_type": "markdown",
   "metadata": {},
   "source": [
    "###### Constants"
   ]
  },
  {
   "cell_type": "code",
   "execution_count": 5,
   "metadata": {},
   "outputs": [],
   "source": [
    "MAX_AGE=60\n",
    "CONTRIBUTION_GROWTH_OPTS = [0.09, 0.08, 0.07, 0.06, 0.05]\n",
    "IP_LIMIT_FACTORS = {\n",
    "    0: 0.00000,\n",
    "    1000000: 1.00000,\n",
    "    2500000: 1.25000,\n",
    "    4000000: 1.44000,\n",
    "    7500000: 1.65000,\n",
    "    10000000: 1.78000\n",
    "}\n",
    "OP_LIMIT_FACTORS = {\n",
    "    0: 0.00000,\n",
    "    75000: 1.00000,\n",
    "    100000: 1.28947,\n",
    "    200000: 1.63063,\n",
    "    250000: 1.78000\n",
    "}\n",
    "HOSPITAL_ACCESS_GROUP_MAPPER = {\n",
    "    \"All\": 1,\n",
    "    \"NHIF\": 0.5,\n",
    "    \"Excluding Nairobi, Aga Khan, MP Shah\": 0.7\n",
    "}\n",
    "FAMILY_SIZE_IP_AMOUNT = {\n",
    "    \"M\": 1858181,\n",
    "    \"M+1\": 3387031,\n",
    "    \"M+2\": 3624949,\n",
    "    \"M+3\": 3862866,\n",
    "    \"M+4\": 4100784,\n",
    "    \"Add Dep\": 237917\n",
    "}\n",
    "FAMILY_SIZE_OP_AMOUNT = {\n",
    "    \"M\": 688011,\n",
    "    \"M+1\": 1302399,\n",
    "    \"M+2\": 1336010,\n",
    "    \"M+3\": 1369621,\n",
    "    \"M+4\": 1403231,\n",
    "    \"Add Dep\": 33611\n",
    "}\n",
    "IP_FAMILY_SIZE_FACTORS = {\n",
    "    \"M\": 1,\n",
    "    \"M+1\": 1.822766987,\n",
    "    \"M+2\": 1.950804805,\n",
    "    \"M+3\": 2.078842624,\n",
    "    \"M+4\": 2.206880442,\n",
    "    \"Add Dep\": 0.1280378181\n",
    "}\n",
    "OP_FAMILY_SIZE_FACTORS = {\n",
    "    \"M\": 1,\n",
    "    \"M+1\": 1.892992605,\n",
    "    \"M+2\": 1.941844698,\n",
    "    \"M+3\": 1.99069679,\n",
    "    \"M+4\": 2.039548883,\n",
    "    \"Add Dep\": 0.04885209257\n",
    "}\n",
    "\n",
    "HOSPITAL_ACCESS_GROUPS = list(HOSPITAL_ACCESS_GROUP_MAPPER.keys())\n",
    "\n",
    "IP_LIMITS = list(IP_LIMIT_FACTORS.keys())\n",
    "OP_LIMITS = list(OP_LIMIT_FACTORS.keys())"
   ]
  },
  {
   "cell_type": "markdown",
   "metadata": {},
   "source": [
    "##### contribution period"
   ]
  },
  {
   "cell_type": "code",
   "execution_count": 3,
   "metadata": {},
   "outputs": [],
   "source": [
    "def get_contribution_period(age):\n",
    "    \"\"\"\n",
    "    Get the contribution period options\n",
    "    Args:\n",
    "        age (int): a person's age\n",
    "    Returns:\n",
    "        contr_preiod_ops (list): Contribution period options\n",
    "    \"\"\"\n",
    "    contr_preiod_ops = list(range(0, MAX_AGE - age +1))[::-1]\n",
    "    return contr_preiod_ops"
   ]
  },
  {
   "cell_type": "markdown",
   "metadata": {},
   "source": [
    "###### Calculations"
   ]
  },
  {
   "cell_type": "code",
   "execution_count": 1,
   "metadata": {},
   "outputs": [],
   "source": [
    "def generate_contribution_rates(**kwargs):\n",
    "    \"\"\"\n",
    "    Perform the necessary calculations based on the inputs\n",
    "    Args:\n",
    "        kwargs (dict): input details including:\n",
    "            age (int)\n",
    "            contribution_period (int)\n",
    "            family_size (str)\n",
    "            ip_benefit_limit (int)\n",
    "            op_benefit_limit (int)\n",
    "    Returns:\n",
    "        (dict): the calculated values\n",
    "    \"\"\"\n",
    "    age = kwargs.get(\"age\")\n",
    "    contribution_period = kwargs.get(\"contribution_period\")\n",
    "    family_size = kwargs.get(\"family_size\")\n",
    "    ip_benefit_limit = kwargs.get(\"ip_benefit_limit\")\n",
    "    op_benefit_limit = kwargs.get(\"op_benefit_limit\")\n",
    "    \n",
    "    period_to_retirement = MAX_AGE - age\n",
    "    # contribution_period = list(range(0, period_to_retirement+1))[::-1][0]\n",
    "    interest_rate = 0.1\n",
    "    medical_inflation_rate = 0.08\n",
    "    contribution_growth_rate= CONTRIBUTION_GROWTH_OPTS[0]\n",
    "    discount_factor = (pow((1+interest_rate),(1/12))-1)*12\n",
    "    salary_factor = (pow((1+contribution_growth_rate),(1/12))-1)*12\n",
    "    sannuity_factor = ((1+interest_rate)-1)/discount_factor\n",
    "    discount_growth_factor = (1+interest_rate)/(1+contribution_growth_rate)-1\n",
    "    contribution_factor = (sannuity_factor * pow((1+contribution_growth_rate), (contribution_period-1))*\\\n",
    "                (pow((1+discount_growth_factor), (contribution_period))-1)/discount_growth_factor)/\\\n",
    "                 pow((1+medical_inflation_rate), period_to_retirement) if contribution_period > 0 else 1\n",
    "    \n",
    "    # ip_benefit_limit = IP_LIMITS[1]\n",
    "    # op_benefit_limit = OP_LIMITS[1]\n",
    "    \n",
    "    ip_benefit_limit_factor = IP_LIMIT_FACTORS.get(ip_benefit_limit, 0)\n",
    "    op_benefit_limit_factor = OP_LIMIT_FACTORS.get(op_benefit_limit, 0)\n",
    "    hospital_access_group = HOSPITAL_ACCESS_GROUPS[0]\n",
    "    hospital_access_group_factor = HOSPITAL_ACCESS_GROUP_MAPPER.get(hospital_access_group)\n",
    "\n",
    "    # family_size = \"M+1\"\n",
    "    ip_family_fize_factor = IP_FAMILY_SIZE_FACTORS.get(family_size)\n",
    "    op_family_fize_factor = OP_FAMILY_SIZE_FACTORS.get(family_size)\n",
    "\n",
    "    ip_contribution_amount = FAMILY_SIZE_IP_AMOUNT.get(\"M\")*ip_benefit_limit_factor*hospital_access_group_factor*\\\n",
    "    ip_family_fize_factor/contribution_factor\n",
    "\n",
    "    op_contribution_amount = FAMILY_SIZE_OP_AMOUNT.get(\"M\")*op_benefit_limit_factor*hospital_access_group_factor*\\\n",
    "    op_family_fize_factor/contribution_factor\n",
    "\n",
    "    total_contribution_mount = ip_contribution_amount + op_contribution_amount\n",
    "    \n",
    "    return {\n",
    "        \"age\": age,\n",
    "        \"period_to_retirement\": period_to_retirement,\n",
    "        \"contribution_period\":contribution_period,\n",
    "        \"interest_rate\":interest_rate,\n",
    "        \"medical_inflation_rate\": medical_inflation_rate,\n",
    "        \"contribution_growth_rate\": contribution_growth_rate,\n",
    "        \"discount_factor\": discount_factor,\n",
    "        \"salary_factor\": salary_factor,\n",
    "        \"sannuity_factor\": sannuity_factor,\n",
    "        \"discount_growth_factor\": discount_growth_factor,\n",
    "        \"contribution_factor\":contribution_factor,\n",
    "        \"ip_benefit_limit\": ip_benefit_limit,\n",
    "        \"op_benefit_limit\": op_benefit_limit,\n",
    "        \"hospital_access_group\": hospital_access_group,\n",
    "        \"hospital_access_group_factor\": hospital_access_group_factor,\n",
    "        \"family_size\": family_size,\n",
    "        \"ip_family_fize_factor\": ip_family_fize_factor,\n",
    "        \"op_family_fize_factor\": op_family_fize_factor,\n",
    "        \"ip_contribution_amount\": ip_contribution_amount,\n",
    "        \"op_contribution_amount\": op_contribution_amount,\n",
    "        \"total_contribution_mount\": total_contribution_mount\n",
    "    }\n"
   ]
  },
  {
   "cell_type": "markdown",
   "metadata": {},
   "source": [
    "###### Test data"
   ]
  },
  {
   "cell_type": "code",
   "execution_count": 6,
   "metadata": {},
   "outputs": [
    {
     "data": {
      "text/plain": [
       "{'age': 59,\n",
       " 'period_to_retirement': 1,\n",
       " 'contribution_period': 1,\n",
       " 'interest_rate': 0.1,\n",
       " 'medical_inflation_rate': 0.08,\n",
       " 'contribution_growth_rate': 0.09,\n",
       " 'discount_factor': 0.09568968514684517,\n",
       " 'salary_factor': 0.08648787979364059,\n",
       " 'sannuity_factor': 1.0450447176886444,\n",
       " 'discount_growth_factor': 0.00917431192660545,\n",
       " 'contribution_factor': 0.9676339978598558,\n",
       " 'ip_benefit_limit': 1000000,\n",
       " 'op_benefit_limit': 75000,\n",
       " 'hospital_access_group': 'All',\n",
       " 'hospital_access_group_factor': 1,\n",
       " 'family_size': 'M+1',\n",
       " 'ip_family_fize_factor': 1.822766987,\n",
       " 'op_family_fize_factor': 1.892992605,\n",
       " 'ip_contribution_amount': 3500322.4257951267,\n",
       " 'op_contribution_amount': 1345963.1824007945,\n",
       " 'total_contribution_mount': 4846285.608195921}"
      ]
     },
     "execution_count": 6,
     "metadata": {},
     "output_type": "execute_result"
    }
   ],
   "source": [
    "data = {\n",
    "    \"age\": 59,\n",
    "    \"contribution_period\": get_contribution_period(59)[0],\n",
    "    \"family_size\": \"M+1\",\n",
    "    \"ip_benefit_limit\": IP_LIMITS[1],\n",
    "    \"op_benefit_limit\": OP_LIMITS[1],\n",
    "}\n",
    "generate_contribution_rates(**data)"
   ]
  }
 ],
 "metadata": {
  "kernelspec": {
   "display_name": "Python 3",
   "language": "python",
   "name": "python3"
  },
  "language_info": {
   "codemirror_mode": {
    "name": "ipython",
    "version": 3
   },
   "file_extension": ".py",
   "mimetype": "text/x-python",
   "name": "python",
   "nbconvert_exporter": "python",
   "pygments_lexer": "ipython3",
   "version": "3.7.4"
  }
 },
 "nbformat": 4,
 "nbformat_minor": 2
}
